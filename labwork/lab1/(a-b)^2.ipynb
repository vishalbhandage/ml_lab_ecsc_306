{
 "cells": [
  {
   "cell_type": "code",
   "execution_count": 5,
   "metadata": {},
   "outputs": [
    {
     "name": "stdout",
     "output_type": "stream",
     "text": [
      "9\n"
     ]
    }
   ],
   "source": [
    "import tensorflow as tf\n",
    "with tf.name_scope(\"Equation_1\"):\n",
    "    with tf.name_scope(\"scope_1\"):\n",
    "        with tf.name_scope(\"A_Square\"):\n",
    "            a=tf.square(2,name=\"a2\")\n",
    "        with tf.name_scope(\"B_square\"):\n",
    "            b=tf.square(5,name=\"b2\")\n",
    "        c=tf.add(a,b,name=\"sum\")\n",
    "    with tf.name_scope(\"scope2\"):\n",
    "        p=tf.multiply(2,5,name=\"mult\")\n",
    "        z=tf.scalar_mul(2,p)\n",
    "    res=tf.subtract(c,z,name=\"final_answer\")\n",
    "with tf.Session() as sess:\n",
    "    writer=tf.summary.FileWriter(\"/tmp/tboard/output4\",sess.graph)\n",
    "    print(sess.run(res))\n",
    "    writer.close()\n",
    "        "
   ]
  },
  {
   "cell_type": "code",
   "execution_count": null,
   "metadata": {
    "collapsed": true
   },
   "outputs": [],
   "source": []
  }
 ],
 "metadata": {
  "kernelspec": {
   "display_name": "Python 3",
   "language": "python",
   "name": "python3"
  },
  "language_info": {
   "codemirror_mode": {
    "name": "ipython",
    "version": 3
   },
   "file_extension": ".py",
   "mimetype": "text/x-python",
   "name": "python",
   "nbconvert_exporter": "python",
   "pygments_lexer": "ipython3",
   "version": "3.6.1"
  }
 },
 "nbformat": 4,
 "nbformat_minor": 2
}
