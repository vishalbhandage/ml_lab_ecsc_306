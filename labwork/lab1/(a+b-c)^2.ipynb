{
 "cells": [
  {
   "cell_type": "code",
   "execution_count": 1,
   "metadata": {},
   "outputs": [
    {
     "name": "stdout",
     "output_type": "stream",
     "text": [
      "0\n"
     ]
    }
   ],
   "source": [
    "import tensorflow as tf\n",
    "with tf.name_scope(\"Equation_2\"):\n",
    "    with tf.name_scope(\"scope_1\"):\n",
    "        with tf.name_scope(\"A_Square\"):\n",
    "            a=tf.square(2,name=\"a2\")\n",
    "        with tf.name_scope(\"B_square\"):\n",
    "            b=tf.square(3,name=\"b2\")\n",
    "        with tf.name_scope(\"C_Square\"):\n",
    "            c=tf.square(5,name=\"c2\")\n",
    "        d1=tf.add(a,b,name=\"sum\")\n",
    "        d2=tf.add(c,d1,name=\"sum2\")\n",
    "    with tf.name_scope(\"scope2\"):\n",
    "        p1=tf.multiply(2,3,name=\"mult1\")\n",
    "        z1=tf.scalar_mul(2,p1)\n",
    "        res1=tf.add(d2,z1,name=\"add\")\n",
    "    with tf.name_scope(\"scope3\"):\n",
    "        p2=tf.multiply(3,5,name=\"mult2\")\n",
    "        z2=tf.scalar_mul(2,p2)\n",
    "        res2=tf.subtract(res1,z2,name=\"sub1\")\n",
    "    with tf.name_scope(\"scope4\"):\n",
    "        p3=tf.multiply(2,5,name=\"mult3\")\n",
    "        z3=tf.scalar_mul(2,p3)\n",
    "        res=tf.subtract(res2,z3,name=\"sub1\")\n",
    "with tf.Session() as sess:\n",
    "    writer=tf.summary.FileWriter(\"/tmp/tboard/output4\",sess.graph)\n",
    "    print(sess.run(res))\n",
    "    writer.close()"
   ]
  },
  {
   "cell_type": "code",
   "execution_count": null,
   "metadata": {
    "collapsed": true
   },
   "outputs": [],
   "source": []
  }
 ],
 "metadata": {
  "kernelspec": {
   "display_name": "Python 3",
   "language": "python",
   "name": "python3"
  },
  "language_info": {
   "codemirror_mode": {
    "name": "ipython",
    "version": 3
   },
   "file_extension": ".py",
   "mimetype": "text/x-python",
   "name": "python",
   "nbconvert_exporter": "python",
   "pygments_lexer": "ipython3",
   "version": "3.6.1"
  }
 },
 "nbformat": 4,
 "nbformat_minor": 2
}
