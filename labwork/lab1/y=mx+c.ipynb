{
 "cells": [
  {
   "cell_type": "code",
   "execution_count": 2,
   "metadata": {},
   "outputs": [
    {
     "name": "stdout",
     "output_type": "stream",
     "text": [
      "Epoch: 0050 cost= 0.906279981 W= 2.06318 b= 0.709895\n",
      "Epoch: 0100 cost= 0.769910216 W= 2.02214 b= 0.961061\n",
      "Epoch: 0150 cost= 0.662154675 W= 1.94847 b= 1.18182\n",
      "Epoch: 0200 cost= 0.569518924 W= 1.87963 b= 1.38638\n",
      "Epoch: 0250 cost= 0.489843458 W= 1.81578 b= 1.57608\n",
      "Epoch: 0300 cost= 0.421314359 W= 1.75657 b= 1.75202\n",
      "Epoch: 0350 cost= 0.362372428 W= 1.70166 b= 1.91519\n",
      "Epoch: 0400 cost= 0.311676383 W= 1.65073 b= 2.06651\n",
      "Epoch: 0450 cost= 0.268072605 W= 1.60349 b= 2.20686\n",
      "Epoch: 0500 cost= 0.230569571 W= 1.55969 b= 2.33701\n",
      "Epoch: 0550 cost= 0.198312998 W= 1.51907 b= 2.45771\n",
      "Epoch: 0600 cost= 0.170569137 W= 1.48139 b= 2.56966\n",
      "Epoch: 0650 cost= 0.146706477 W= 1.44645 b= 2.67348\n",
      "Epoch: 0700 cost= 0.126182526 W= 1.41404 b= 2.76976\n",
      "Epoch: 0750 cost= 0.108529814 W= 1.38399 b= 2.85906\n",
      "Epoch: 0800 cost= 0.093346655 W= 1.35612 b= 2.94187\n",
      "Epoch: 0850 cost= 0.080287471 W= 1.33027 b= 3.01867\n",
      "Epoch: 0900 cost= 0.069055252 W= 1.3063 b= 3.0899\n",
      "Epoch: 0950 cost= 0.059394367 W= 1.28407 b= 3.15596\n",
      "Epoch: 1000 cost= 0.051085185 W= 1.26345 b= 3.21723\n",
      "Optimization Finished!\n",
      "Training cost= 0.0510852 W= 1.26345 b= 3.21723 \n",
      "\n"
     ]
    },
    {
     "data": {
      "image/png": "[encoded data removed]",
      "text/plain": [
       "<matplotlib.figure.Figure at 0x1c2e4586da0>"
      ]
     },
     "metadata": {},
     "output_type": "display_data"
    }
   ],
   "source": [
    "import numpy\n",
    "import matplotlib.pyplot as plt\n",
    "rng = numpy.random\n",
    "import tensorflow as tf\n",
    "\n",
    "learning_rate = 0.01\n",
    "training_epochs = 1000\n",
    "display_step = 50\n",
    "\n",
    "train_X = numpy.asarray([1.,2.,3.,4.])\n",
    "train_Y = numpy.asarray([5.,6.,7.,8.])\n",
    "n_samples = train_X.shape[0]\n",
    "\n",
    "X = tf.placeholder(\"float\")\n",
    "Y = tf.placeholder(\"float\")\n",
    "\n",
    "W = tf.Variable(rng.randn(), name=\"weight\")\n",
    "b = tf.Variable(rng.randn(), name=\"bias\")\n",
    "\n",
    "pred = tf.add(tf.multiply(X, W), b)\n",
    "\n",
    "cost = tf.reduce_sum(tf.pow(pred-Y, 2))/(2*n_samples)\n",
    "\n",
    "optimizer = tf.train.GradientDescentOptimizer(learning_rate).minimize(cost)\n",
    "\n",
    "init = tf.global_variables_initializer()\n",
    "\n",
    "with tf.Session() as sess:\n",
    "    sess.run(init)\n",
    "\n",
    "    for epoch in range(training_epochs):\n",
    "        for (x, y) in zip(train_X, train_Y):\n",
    "            sess.run(optimizer, feed_dict={X: x, Y: y})\n",
    "        if (epoch+1) % display_step == 0:\n",
    "            c = sess.run(cost, feed_dict={X: train_X, Y:train_Y})\n",
    "            print(\"Epoch:\", '%04d' % (epoch+1), \"cost=\", \"{:.9f}\".format(c), \"W=\", sess.run(W), \"b=\", sess.run(b))\n",
    "    print(\"Optimization Finished!\")\n",
    "    training_cost = sess.run(cost, feed_dict={X: train_X, Y: train_Y})\n",
    "    print(\"Training cost=\", training_cost, \"W=\", sess.run(W), \"b=\", sess.run(b), '\\n')\n",
    "\n",
    "    plt.plot(train_X, train_Y, 'ro', label='Original data')\n",
    "    plt.plot(train_X, sess.run(W) * train_X + sess.run(b), label='Fitted line')\n",
    "    plt.legend()\n",
    "    plt.show()"
   ]
  },
  {
   "cell_type": "code",
   "execution_count": null,
   "metadata": {
    "collapsed": true
   },
   "outputs": [],
   "source": []
  }
 ],
 "metadata": {
  "kernelspec": {
   "display_name": "Python 3",
   "language": "python",
   "name": "python3"
  },
  "language_info": {
   "codemirror_mode": {
    "name": "ipython",
    "version": 3
   },
   "file_extension": ".py",
   "mimetype": "text/x-python",
   "name": "python",
   "nbconvert_exporter": "python",
   "pygments_lexer": "ipython3",
   "version": "3.6.1"
  }
 },
 "nbformat": 4,
 "nbformat_minor": 2
}
