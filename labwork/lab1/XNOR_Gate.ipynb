{
 "cells": [
  {
   "cell_type": "code",
   "execution_count": 1,
   "metadata": {
    "scrolled": true
   },
   "outputs": [
    {
     "name": "stdout",
     "output_type": "stream",
     "text": [
      "iteration=  0 cost=  0.887876\n",
      "iteration=  1000 cost=  0.67232\n",
      "iteration=  2000 cost=  0.637792\n",
      "iteration=  3000 cost=  0.611275\n",
      "iteration=  4000 cost=  0.585045\n",
      "iteration=  5000 cost=  0.556807\n",
      "iteration=  6000 cost=  0.525693\n",
      "iteration=  7000 cost=  0.491379\n",
      "iteration=  8000 cost=  0.453967\n",
      "iteration=  9000 cost=  0.414074\n",
      "iteration=  10000 cost=  0.372873\n",
      "iteration=  11000 cost=  0.331931\n",
      "iteration=  12000 cost=  0.292862\n",
      "Validating output for XNOR GATE\n",
      "[[ 0.82871932]\n",
      " [ 0.23158985]\n",
      " [ 0.28528056]\n",
      " [ 0.68104416]]\n",
      "[[-1.29240608 -1.93940651  3.30660963 -3.62568855 -0.31293344 -1.45087087]\n",
      " [-1.26238441 -2.40155053 -1.29829419 -3.47788453  2.08266759 -1.92081583]]\n"
     ]
    }
   ],
   "source": [
    "import tensorflow as tf\n",
    "import numpy as np\n",
    "x=tf.placeholder(tf.float32,shape=[None,2])\n",
    "y=tf.placeholder(tf.float32,shape=[None,1])\n",
    "\n",
    "weights=tf.Variable(tf.random_normal([2,6]),dtype=tf.float32)\n",
    "bias=tf.Variable(tf.random_normal([6]),dtype=tf.float32)\n",
    "\n",
    "multiply1=tf.add(tf.matmul(x,weights),bias)\n",
    "z=tf.sigmoid(multiply1)\n",
    "\n",
    "out1 = tf.Variable(tf.random_normal([6,1]))\n",
    "z2 = tf.sigmoid(tf.matmul(z,out1))\n",
    "\n",
    "cost = tf.reduce_mean((y*tf.log(z2)+(1-y)*tf.log(1-z2))*-1)\n",
    "optimizer = tf.train.GradientDescentOptimizer(0.01).minimize(cost)\n",
    "\n",
    "inp = np.array([[0,0],[0,1],[1,0],[1,1]])\n",
    "op = np.array([[1],[0],[0],[1]])\n",
    "with tf.Session() as sess:\n",
    "\n",
    "    tf.global_variables_initializer().run()\n",
    "    for i in range(12001):\n",
    "        res,_= sess.run([cost,optimizer],feed_dict={x:inp,y:op})\n",
    "        if i%1000==0:\n",
    "            print (\"iteration= \",i,\"cost= \",res)\n",
    "    print (\"Validating output for XNOR GATE\")\n",
    "    result=sess.run(z2,feed_dict={x:inp})\n",
    "    print (result)\n",
    "    print(sess.run(weights))\n",
    "    "
   ]
  },
  {
   "cell_type": "code",
   "execution_count": null,
   "metadata": {
    "collapsed": true
   },
   "outputs": [],
   "source": []
  }
 ],
 "metadata": {
  "kernelspec": {
   "display_name": "Python 3",
   "language": "python",
   "name": "python3"
  },
  "language_info": {
   "codemirror_mode": {
    "name": "ipython",
    "version": 3
   },
   "file_extension": ".py",
   "mimetype": "text/x-python",
   "name": "python",
   "nbconvert_exporter": "python",
   "pygments_lexer": "ipython3",
   "version": "3.6.1"
  }
 },
 "nbformat": 4,
 "nbformat_minor": 2
}
